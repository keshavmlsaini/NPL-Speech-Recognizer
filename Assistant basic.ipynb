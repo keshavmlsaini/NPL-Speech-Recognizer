{
 "cells": [
  {
   "cell_type": "code",
   "execution_count": 1,
   "id": "43587348",
   "metadata": {},
   "outputs": [],
   "source": [
    "import spacy\n",
    "import subprocess\n",
    "import speech_recognition as sr"
   ]
  },
  {
   "cell_type": "code",
   "execution_count": 2,
   "id": "5429104d",
   "metadata": {},
   "outputs": [],
   "source": [
    "english =spacy.load(\"en_core_web_sm\")"
   ]
  },
  {
   "cell_type": "code",
   "execution_count": 77,
   "id": "a3d4ee3e",
   "metadata": {},
   "outputs": [
    {
     "name": "stdout",
     "output_type": "stream",
     "text": [
      "Start speaking to use this basic API\n"
     ]
    }
   ],
   "source": [
    "print(\"Start speaking to use this basic API\")"
   ]
  },
  {
   "cell_type": "code",
   "execution_count": 72,
   "id": "2ad4e970",
   "metadata": {},
   "outputs": [
    {
     "name": "stdout",
     "output_type": "stream",
     "text": [
      "Start Say..\n",
      "speech done\n"
     ]
    }
   ],
   "source": [
    "r = sr.Recognizer()\n",
    "\n",
    "with sr.Microphone() as source:\n",
    "    print(\"Start Say..\")\n",
    "    audio=r.listen(source)\n",
    "    print(\"speech done\")"
   ]
  },
  {
   "cell_type": "code",
   "execution_count": 73,
   "id": "31c39bab",
   "metadata": {},
   "outputs": [],
   "source": [
    "ch=r.recognize_google(audio)"
   ]
  },
  {
   "cell_type": "code",
   "execution_count": 74,
   "id": "65c12695",
   "metadata": {},
   "outputs": [],
   "source": [
    "doc = english(ch)"
   ]
  },
  {
   "cell_type": "code",
   "execution_count": 75,
   "id": "e186e387",
   "metadata": {},
   "outputs": [
    {
     "name": "stdout",
     "output_type": "stream",
     "text": [
      "Aaron Aaron PROPN\n",
      "date date NOUN\n",
      "Kumar Kumar PROPN\n"
     ]
    }
   ],
   "source": [
    "for i in doc:\n",
    "    print(i.text,i.lemma_, i.pos_)"
   ]
  },
  {
   "cell_type": "code",
   "execution_count": 76,
   "id": "85a0410c",
   "metadata": {},
   "outputs": [],
   "source": [
    "myaction = []"
   ]
  },
  {
   "cell_type": "code",
   "execution_count": 51,
   "id": "9a8c8028",
   "metadata": {},
   "outputs": [],
   "source": [
    "\n",
    "wakeup = english(ch)"
   ]
  },
  {
   "cell_type": "code",
   "execution_count": 52,
   "id": "28b1764a",
   "metadata": {},
   "outputs": [
    {
     "name": "stdout",
     "output_type": "stream",
     "text": [
      "hey\n",
      "Google\n",
      "please\n",
      "run\n",
      "Chrome\n",
      "command\n",
      "for\n",
      "me\n"
     ]
    }
   ],
   "source": [
    "for k in wakeup:\n",
    "    print(k.text)"
   ]
  },
  {
   "cell_type": "code",
   "execution_count": 58,
   "id": "8958b27d",
   "metadata": {},
   "outputs": [
    {
     "name": "stdout",
     "output_type": "stream",
     "text": [
      "run run\n"
     ]
    }
   ],
   "source": [
    "for i in doc:\n",
    "   # print(i.text,i.pos_)\n",
    "   if i.pos_ == \"VERB\":\n",
    "        print(i.text,i.lemma_)\n",
    "        myaction.append(i.lemma_)\n",
    "        \n",
    "y = True \n",
    "for i in doc:\n",
    "    if i.dep_ == \"neg\":\n",
    "        y = False\n"
   ]
  },
  {
   "cell_type": "code",
   "execution_count": 59,
   "id": "6e9b1a7d",
   "metadata": {},
   "outputs": [],
   "source": [
    "if wakeup[0].text == \"hey\" and wakeup[1].text == \"Google\":\n",
    "    if \"date\" in ch and \"run\" in myaction  and y:\n",
    "        print(subprocess.getoutput(\"date /t\"))\n",
    "    elif  \"firefox\" in ch and \"run\" in myaction and y :\n",
    "        print(subprocess.getoutput(\"FireFox\"))\n",
    "    elif  \"Chrome\" in ch and \"run\" in myaction and y :\n",
    "        subprocess.getoutput(\"chrome\")\n",
    "    elif  \"player\" in ch and \"run\" in myaction and y:\n",
    "        subprocess.getoutput(\"wmplayer\")\n",
    "    else:\n",
    "        print(\"not supported\")\n",
    "else:\n",
    "    print(\"Does not able to find Wakeup word\")"
   ]
  },
  {
   "cell_type": "code",
   "execution_count": null,
   "id": "194a7268",
   "metadata": {},
   "outputs": [],
   "source": []
  },
  {
   "cell_type": "code",
   "execution_count": null,
   "id": "85e3e6e7",
   "metadata": {},
   "outputs": [],
   "source": []
  }
 ],
 "metadata": {
  "kernelspec": {
   "display_name": "Python 3",
   "language": "python",
   "name": "python3"
  },
  "language_info": {
   "codemirror_mode": {
    "name": "ipython",
    "version": 3
   },
   "file_extension": ".py",
   "mimetype": "text/x-python",
   "name": "python",
   "nbconvert_exporter": "python",
   "pygments_lexer": "ipython3",
   "version": "3.8.8"
  }
 },
 "nbformat": 4,
 "nbformat_minor": 5
}
